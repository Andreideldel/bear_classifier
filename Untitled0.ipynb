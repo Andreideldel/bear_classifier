{
  "cells": [
    {
      "cell_type": "code",
      "execution_count": null,
      "metadata": {
        "colab": {
          "base_uri": "https://localhost:8080/"
        },
        "id": "HlaCa6F-eyxn",
        "outputId": "35f01a0e-a7f6-4d9c-97bc-6aca5fca9df3"
      },
      "outputs": [
        {
          "name": "stdout",
          "output_type": "stream",
          "text": [
            "Looking in indexes: https://pypi.org/simple, https://us-python.pkg.dev/colab-wheels/public/simple/\n",
            "Collecting fastcore==1.3.12\n",
            "  Downloading fastcore-1.3.12-py3-none-any.whl (51 kB)\n",
            "\u001b[K     |████████████████████████████████| 51 kB 548 kB/s \n",
            "\u001b[?25hRequirement already satisfied: pip in /usr/local/lib/python3.7/dist-packages (from fastcore==1.3.12) (21.1.3)\n",
            "Requirement already satisfied: packaging in /usr/local/lib/python3.7/dist-packages (from fastcore==1.3.12) (21.3)\n",
            "Requirement already satisfied: pyparsing!=3.0.5,>=2.0.2 in /usr/local/lib/python3.7/dist-packages (from packaging->fastcore==1.3.12) (3.0.9)\n",
            "Installing collected packages: fastcore\n",
            "  Attempting uninstall: fastcore\n",
            "    Found existing installation: fastcore 1.4.4\n",
            "    Uninstalling fastcore-1.4.4:\n",
            "      Successfully uninstalled fastcore-1.4.4\n",
            "\u001b[31mERROR: pip's dependency resolver does not currently take into account all the packages that are installed. This behaviour is the source of the following dependency conflicts.\n",
            "fastdownload 0.0.6 requires fastcore>=1.3.26, but you have fastcore 1.3.12 which is incompatible.\n",
            "fastai 2.6.3 requires fastcore<1.5,>=1.3.27, but you have fastcore 1.3.12 which is incompatible.\u001b[0m\n",
            "Successfully installed fastcore-1.3.12\n",
            "Looking in indexes: https://pypi.org/simple, https://us-python.pkg.dev/colab-wheels/public/simple/\n",
            "Requirement already satisfied: torch in /usr/local/lib/python3.7/dist-packages (1.11.0+cu113)\n",
            "Requirement already satisfied: torchvision in /usr/local/lib/python3.7/dist-packages (0.12.0+cu113)\n",
            "Requirement already satisfied: torchaudio in /usr/local/lib/python3.7/dist-packages (0.11.0+cu113)\n",
            "Requirement already satisfied: typing-extensions in /usr/local/lib/python3.7/dist-packages (from torch) (4.1.1)\n",
            "Requirement already satisfied: pillow!=8.3.*,>=5.3.0 in /usr/local/lib/python3.7/dist-packages (from torchvision) (7.1.2)\n",
            "Requirement already satisfied: numpy in /usr/local/lib/python3.7/dist-packages (from torchvision) (1.21.6)\n",
            "Requirement already satisfied: requests in /usr/local/lib/python3.7/dist-packages (from torchvision) (2.23.0)\n",
            "Requirement already satisfied: chardet<4,>=3.0.2 in /usr/local/lib/python3.7/dist-packages (from requests->torchvision) (3.0.4)\n",
            "Requirement already satisfied: idna<3,>=2.5 in /usr/local/lib/python3.7/dist-packages (from requests->torchvision) (2.10)\n",
            "Requirement already satisfied: certifi>=2017.4.17 in /usr/local/lib/python3.7/dist-packages (from requests->torchvision) (2022.6.15)\n",
            "Requirement already satisfied: urllib3!=1.25.0,!=1.25.1,<1.26,>=1.21.1 in /usr/local/lib/python3.7/dist-packages (from requests->torchvision) (1.24.3)\n",
            "Looking in indexes: https://pypi.org/simple, https://us-python.pkg.dev/colab-wheels/public/simple/\n",
            "Requirement already satisfied: fastai in /usr/local/lib/python3.7/dist-packages (2.6.3)\n",
            "Collecting fastai\n",
            "  Downloading fastai-2.7.4-py3-none-any.whl (214 kB)\n",
            "\u001b[K     |████████████████████████████████| 214 kB 5.1 MB/s \n",
            "\u001b[?25hRequirement already satisfied: requests in /usr/local/lib/python3.7/dist-packages (from fastai) (2.23.0)\n",
            "Collecting fastcore<1.5,>=1.4.5\n",
            "  Downloading fastcore-1.4.5-py3-none-any.whl (61 kB)\n",
            "\u001b[K     |████████████████████████████████| 61 kB 7.4 MB/s \n",
            "\u001b[?25hRequirement already satisfied: scikit-learn in /usr/local/lib/python3.7/dist-packages (from fastai) (1.0.2)\n",
            "Requirement already satisfied: scipy in /usr/local/lib/python3.7/dist-packages (from fastai) (1.4.1)\n",
            "Requirement already satisfied: pyyaml in /usr/local/lib/python3.7/dist-packages (from fastai) (3.13)\n",
            "Requirement already satisfied: spacy<4 in /usr/local/lib/python3.7/dist-packages (from fastai) (3.3.1)\n",
            "Requirement already satisfied: pandas in /usr/local/lib/python3.7/dist-packages (from fastai) (1.3.5)\n",
            "Requirement already satisfied: pip in /usr/local/lib/python3.7/dist-packages (from fastai) (21.1.3)\n",
            "Requirement already satisfied: torchvision>=0.8.2 in /usr/local/lib/python3.7/dist-packages (from fastai) (0.12.0+cu113)\n",
            "Requirement already satisfied: matplotlib in /usr/local/lib/python3.7/dist-packages (from fastai) (3.2.2)\n",
            "Requirement already satisfied: packaging in /usr/local/lib/python3.7/dist-packages (from fastai) (21.3)\n",
            "Requirement already satisfied: torch<1.12,>=1.7.0 in /usr/local/lib/python3.7/dist-packages (from fastai) (1.11.0+cu113)\n",
            "Requirement already satisfied: fastprogress>=0.2.4 in /usr/local/lib/python3.7/dist-packages (from fastai) (1.0.2)\n",
            "Requirement already satisfied: fastdownload<2,>=0.0.5 in /usr/local/lib/python3.7/dist-packages (from fastai) (0.0.6)\n",
            "Requirement already satisfied: pillow>6.0.0 in /usr/local/lib/python3.7/dist-packages (from fastai) (7.1.2)\n",
            "Requirement already satisfied: tqdm<5.0.0,>=4.38.0 in /usr/local/lib/python3.7/dist-packages (from spacy<4->fastai) (4.64.0)\n",
            "Requirement already satisfied: srsly<3.0.0,>=2.4.3 in /usr/local/lib/python3.7/dist-packages (from spacy<4->fastai) (2.4.3)\n",
            "Requirement already satisfied: numpy>=1.15.0 in /usr/local/lib/python3.7/dist-packages (from spacy<4->fastai) (1.21.6)\n",
            "Requirement already satisfied: langcodes<4.0.0,>=3.2.0 in /usr/local/lib/python3.7/dist-packages (from spacy<4->fastai) (3.3.0)\n",
            "Requirement already satisfied: pydantic!=1.8,!=1.8.1,<1.9.0,>=1.7.4 in /usr/local/lib/python3.7/dist-packages (from spacy<4->fastai) (1.8.2)\n",
            "Requirement already satisfied: thinc<8.1.0,>=8.0.14 in /usr/local/lib/python3.7/dist-packages (from spacy<4->fastai) (8.0.17)\n",
            "Requirement already satisfied: murmurhash<1.1.0,>=0.28.0 in /usr/local/lib/python3.7/dist-packages (from spacy<4->fastai) (1.0.7)\n",
            "Requirement already satisfied: pathy>=0.3.5 in /usr/local/lib/python3.7/dist-packages (from spacy<4->fastai) (0.6.1)\n",
            "Requirement already satisfied: spacy-legacy<3.1.0,>=3.0.9 in /usr/local/lib/python3.7/dist-packages (from spacy<4->fastai) (3.0.9)\n",
            "Requirement already satisfied: cymem<2.1.0,>=2.0.2 in /usr/local/lib/python3.7/dist-packages (from spacy<4->fastai) (2.0.6)\n",
            "Requirement already satisfied: wasabi<1.1.0,>=0.9.1 in /usr/local/lib/python3.7/dist-packages (from spacy<4->fastai) (0.9.1)\n",
            "Requirement already satisfied: catalogue<2.1.0,>=2.0.6 in /usr/local/lib/python3.7/dist-packages (from spacy<4->fastai) (2.0.7)\n",
            "Requirement already satisfied: spacy-loggers<2.0.0,>=1.0.0 in /usr/local/lib/python3.7/dist-packages (from spacy<4->fastai) (1.0.2)\n",
            "Requirement already satisfied: typing-extensions<4.2.0,>=3.7.4 in /usr/local/lib/python3.7/dist-packages (from spacy<4->fastai) (4.1.1)\n",
            "Requirement already satisfied: preshed<3.1.0,>=3.0.2 in /usr/local/lib/python3.7/dist-packages (from spacy<4->fastai) (3.0.6)\n",
            "Requirement already satisfied: setuptools in /usr/local/lib/python3.7/dist-packages (from spacy<4->fastai) (57.4.0)\n",
            "Requirement already satisfied: blis<0.8.0,>=0.4.0 in /usr/local/lib/python3.7/dist-packages (from spacy<4->fastai) (0.7.7)\n",
            "Requirement already satisfied: typer<0.5.0,>=0.3.0 in /usr/local/lib/python3.7/dist-packages (from spacy<4->fastai) (0.4.1)\n",
            "Requirement already satisfied: jinja2 in /usr/local/lib/python3.7/dist-packages (from spacy<4->fastai) (2.11.3)\n",
            "Requirement already satisfied: zipp>=0.5 in /usr/local/lib/python3.7/dist-packages (from catalogue<2.1.0,>=2.0.6->spacy<4->fastai) (3.8.0)\n",
            "Requirement already satisfied: pyparsing!=3.0.5,>=2.0.2 in /usr/local/lib/python3.7/dist-packages (from packaging->fastai) (3.0.9)\n",
            "Requirement already satisfied: smart-open<6.0.0,>=5.0.0 in /usr/local/lib/python3.7/dist-packages (from pathy>=0.3.5->spacy<4->fastai) (5.2.1)\n",
            "Requirement already satisfied: idna<3,>=2.5 in /usr/local/lib/python3.7/dist-packages (from requests->fastai) (2.10)\n",
            "Requirement already satisfied: chardet<4,>=3.0.2 in /usr/local/lib/python3.7/dist-packages (from requests->fastai) (3.0.4)\n",
            "Requirement already satisfied: certifi>=2017.4.17 in /usr/local/lib/python3.7/dist-packages (from requests->fastai) (2022.6.15)\n",
            "Requirement already satisfied: urllib3!=1.25.0,!=1.25.1,<1.26,>=1.21.1 in /usr/local/lib/python3.7/dist-packages (from requests->fastai) (1.24.3)\n",
            "Requirement already satisfied: click<9.0.0,>=7.1.1 in /usr/local/lib/python3.7/dist-packages (from typer<0.5.0,>=0.3.0->spacy<4->fastai) (7.1.2)\n",
            "Requirement already satisfied: MarkupSafe>=0.23 in /usr/local/lib/python3.7/dist-packages (from jinja2->spacy<4->fastai) (2.0.1)\n",
            "Requirement already satisfied: kiwisolver>=1.0.1 in /usr/local/lib/python3.7/dist-packages (from matplotlib->fastai) (1.4.3)\n",
            "Requirement already satisfied: cycler>=0.10 in /usr/local/lib/python3.7/dist-packages (from matplotlib->fastai) (0.11.0)\n",
            "Requirement already satisfied: python-dateutil>=2.1 in /usr/local/lib/python3.7/dist-packages (from matplotlib->fastai) (2.8.2)\n",
            "Requirement already satisfied: six>=1.5 in /usr/local/lib/python3.7/dist-packages (from python-dateutil>=2.1->matplotlib->fastai) (1.15.0)\n",
            "Requirement already satisfied: pytz>=2017.3 in /usr/local/lib/python3.7/dist-packages (from pandas->fastai) (2022.1)\n",
            "Requirement already satisfied: joblib>=0.11 in /usr/local/lib/python3.7/dist-packages (from scikit-learn->fastai) (1.1.0)\n",
            "Requirement already satisfied: threadpoolctl>=2.0.0 in /usr/local/lib/python3.7/dist-packages (from scikit-learn->fastai) (3.1.0)\n",
            "Installing collected packages: fastcore, fastai\n",
            "  Attempting uninstall: fastcore\n",
            "    Found existing installation: fastcore 1.3.12\n",
            "    Uninstalling fastcore-1.3.12:\n",
            "      Successfully uninstalled fastcore-1.3.12\n",
            "  Attempting uninstall: fastai\n",
            "    Found existing installation: fastai 2.6.3\n",
            "    Uninstalling fastai-2.6.3:\n",
            "      Successfully uninstalled fastai-2.6.3\n",
            "Successfully installed fastai-2.7.4 fastcore-1.4.5\n"
          ]
        }
      ],
      "source": [
        "!pip install fastcore==1.3.12\n",
        "!pip install torch torchvision torchaudio\n",
        "!pip install fastai --upgrade"
      ]
    },
    {
      "cell_type": "code",
      "execution_count": null,
      "metadata": {
        "id": "UdKXz1_UdPR2"
      },
      "outputs": [],
      "source": [
        "from fastai.vision.all import *\n",
        "from fastai.vision.widgets import *"
      ]
    },
    {
      "cell_type": "code",
      "execution_count": null,
      "metadata": {
        "colab": {
          "base_uri": "https://localhost:8080/"
        },
        "id": "8T_10qIli8kC",
        "outputId": "e7b7bcfb-42ae-4398-fbb0-a82d2a72a4e5"
      },
      "outputs": [
        {
          "name": "stdout",
          "output_type": "stream",
          "text": [
            "\u001b[K     |████████████████████████████████| 719 kB 4.7 MB/s \n",
            "\u001b[K     |████████████████████████████████| 1.2 MB 59.5 MB/s \n",
            "\u001b[K     |████████████████████████████████| 4.4 MB 53.4 MB/s \n",
            "\u001b[K     |████████████████████████████████| 362 kB 62.6 MB/s \n",
            "\u001b[K     |████████████████████████████████| 140 kB 57.0 MB/s \n",
            "\u001b[K     |████████████████████████████████| 101 kB 10.6 MB/s \n",
            "\u001b[K     |████████████████████████████████| 212 kB 53.5 MB/s \n",
            "\u001b[K     |████████████████████████████████| 1.1 MB 36.8 MB/s \n",
            "\u001b[K     |████████████████████████████████| 596 kB 35.7 MB/s \n",
            "\u001b[K     |████████████████████████████████| 127 kB 41.2 MB/s \n",
            "\u001b[K     |████████████████████████████████| 271 kB 37.5 MB/s \n",
            "\u001b[K     |████████████████████████████████| 94 kB 3.5 MB/s \n",
            "\u001b[K     |████████████████████████████████| 144 kB 50.7 MB/s \n",
            "\u001b[K     |████████████████████████████████| 6.6 MB 33.4 MB/s \n",
            "\u001b[31mERROR: pip's dependency resolver does not currently take into account all the packages that are installed. This behaviour is the source of the following dependency conflicts.\n",
            "datascience 0.10.6 requires folium==0.2.1, but you have folium 0.8.3 which is incompatible.\u001b[0m\n",
            "\u001b[?25hMounted at /content/gdrive\n"
          ]
        }
      ],
      "source": [
        "! [ -e /content ] && pip install -Uqq fastbook\n",
        "import fastbook\n",
        "fastbook.setup_book()"
      ]
    },
    {
      "cell_type": "code",
      "execution_count": null,
      "metadata": {
        "id": "DRi4qehnjNXz"
      },
      "outputs": [],
      "source": [
        "key = os.environ.get('AZURE_SEARCH_KEY', '5bbcf0d4dade4a90b5129634b3a91c67')"
      ]
    },
    {
      "cell_type": "code",
      "execution_count": null,
      "metadata": {
        "id": "cEn7xPIzj1LD"
      },
      "outputs": [],
      "source": [
        "def search_images_bing(key, term, min_sz=128, max_images=150):    \n",
        "     params = {'q':term, 'count':max_images, 'min_height':min_sz, 'min_width':min_sz}\n",
        "     headers = {\"Ocp-Apim-Subscription-Key\":key}\n",
        "     search_url = \"https://api.bing.microsoft.com/v7.0/images/search\"\n",
        "     response = requests.get(search_url, headers=headers, params=params)\n",
        "     response.raise_for_status()\n",
        "     search_results = response.json()    \n",
        "     return L(search_results['value'])\n"
      ]
    },
    {
      "cell_type": "code",
      "execution_count": null,
      "metadata": {
        "id": "W_C45EbBj2wm"
      },
      "outputs": [],
      "source": [
        "bear_types = 'grizzly','black','teddy'\n",
        "path = Path('bears')"
      ]
    },
    {
      "cell_type": "code",
      "execution_count": null,
      "metadata": {
        "id": "Olx_4bjlj7Ug"
      },
      "outputs": [],
      "source": [
        "if not path.exists():\n",
        "    path.mkdir()\n",
        "    for o in bear_types:\n",
        "        dest = (path/o)\n",
        "        dest.mkdir(exist_ok=True)\n",
        "        results = search_images_bing(key, f'{o} bear')\n",
        "        download_images(dest, urls=results.attrgot('contentUrl'))"
      ]
    },
    {
      "cell_type": "code",
      "execution_count": 32,
      "metadata": {
        "colab": {
          "base_uri": "https://localhost:8080/"
        },
        "id": "IsPYPm7ij9M5",
        "outputId": "d38ef3ac-38b5-4551-f4a8-dc818e885bc1"
      },
      "outputs": [
        {
          "output_type": "execute_result",
          "data": {
            "text/plain": [
              "(#3) [Path('bears/grizzly/b07a8a24-48bd-4c2f-9937-d4dcef92ace1.jpg'),Path('bears/grizzly/215821d8-2cac-43f1-aa96-3efc49dc03a2.jpg'),Path('bears/grizzly/5ece36d6-553e-4928-9c5a-1ef9f796ff92.jpg')]"
            ]
          },
          "metadata": {},
          "execution_count": 32
        }
      ],
      "source": [
        "failed = verify_images(fns)\n",
        "failed"
      ]
    },
    {
      "cell_type": "code",
      "execution_count": null,
      "metadata": {
        "id": "EUNwJaYMkeg1"
      },
      "outputs": [],
      "source": [
        "failed.map(Path.unlink);"
      ]
    },
    {
      "cell_type": "code",
      "execution_count": null,
      "metadata": {
        "id": "ANlVxHuakf3b"
      },
      "outputs": [],
      "source": [
        "bears = DataBlock(\n",
        "    blocks=(ImageBlock, CategoryBlock), \n",
        "    get_items=get_image_files, \n",
        "    splitter=RandomSplitter(valid_pct=0.2, seed=42),\n",
        "    get_y=parent_label,\n",
        "    item_tfms=Resize(128))"
      ]
    },
    {
      "cell_type": "code",
      "execution_count": null,
      "metadata": {
        "id": "Ah5lB8XvkmfI"
      },
      "outputs": [],
      "source": [
        "dls = bears.dataloaders(path)"
      ]
    },
    {
      "cell_type": "code",
      "execution_count": null,
      "metadata": {
        "id": "kXHHzFzwkm1u"
      },
      "outputs": [],
      "source": [
        "bears = bears.new(item_tfms=Resize(128), batch_tfms=aug_transforms(mult=2))\n",
        "dls = bears.dataloaders(path)\n",
        "dls.train.show_batch(max_n=8, nrows=2, unique=True)"
      ]
    },
    {
      "cell_type": "code",
      "execution_count": 16,
      "metadata": {
        "colab": {
          "base_uri": "https://localhost:8080/",
          "height": 313
        },
        "id": "4dQZ7fNhk4dH",
        "outputId": "3bcdb757-8133-48cc-f9b7-b86d06df8f7c"
      },
      "outputs": [
        {
          "data": {
            "text/html": [
              "\n",
              "<style>\n",
              "    /* Turns off some styling */\n",
              "    progress {\n",
              "        /* gets rid of default border in Firefox and Opera. */\n",
              "        border: none;\n",
              "        /* Needs to be in here for Safari polyfill so background images work as expected. */\n",
              "        background-size: auto;\n",
              "    }\n",
              "    .progress-bar-interrupted, .progress-bar-interrupted::-webkit-progress-bar {\n",
              "        background: #F44336;\n",
              "    }\n",
              "</style>\n"
            ],
            "text/plain": [
              "<IPython.core.display.HTML object>"
            ]
          },
          "metadata": {},
          "output_type": "display_data"
        },
        {
          "data": {
            "text/html": [
              "<table border=\"1\" class=\"dataframe\">\n",
              "  <thead>\n",
              "    <tr style=\"text-align: left;\">\n",
              "      <th>epoch</th>\n",
              "      <th>train_loss</th>\n",
              "      <th>valid_loss</th>\n",
              "      <th>error_rate</th>\n",
              "      <th>time</th>\n",
              "    </tr>\n",
              "  </thead>\n",
              "  <tbody>\n",
              "    <tr>\n",
              "      <td>0</td>\n",
              "      <td>1.555734</td>\n",
              "      <td>0.819141</td>\n",
              "      <td>0.252874</td>\n",
              "      <td>00:23</td>\n",
              "    </tr>\n",
              "  </tbody>\n",
              "</table>"
            ],
            "text/plain": [
              "<IPython.core.display.HTML object>"
            ]
          },
          "metadata": {},
          "output_type": "display_data"
        },
        {
          "data": {
            "text/html": [
              "\n",
              "<style>\n",
              "    /* Turns off some styling */\n",
              "    progress {\n",
              "        /* gets rid of default border in Firefox and Opera. */\n",
              "        border: none;\n",
              "        /* Needs to be in here for Safari polyfill so background images work as expected. */\n",
              "        background-size: auto;\n",
              "    }\n",
              "    .progress-bar-interrupted, .progress-bar-interrupted::-webkit-progress-bar {\n",
              "        background: #F44336;\n",
              "    }\n",
              "</style>\n"
            ],
            "text/plain": [
              "<IPython.core.display.HTML object>"
            ]
          },
          "metadata": {},
          "output_type": "display_data"
        },
        {
          "data": {
            "text/html": [
              "\n",
              "    <div>\n",
              "      <progress value='0' class='' max='4' style='width:300px; height:20px; vertical-align: middle;'></progress>\n",
              "      0.00% [0/4 00:00<00:00]\n",
              "    </div>\n",
              "    \n",
              "<table border=\"1\" class=\"dataframe\">\n",
              "  <thead>\n",
              "    <tr style=\"text-align: left;\">\n",
              "      <th>epoch</th>\n",
              "      <th>train_loss</th>\n",
              "      <th>valid_loss</th>\n",
              "      <th>error_rate</th>\n",
              "      <th>time</th>\n",
              "    </tr>\n",
              "  </thead>\n",
              "  <tbody>\n",
              "  </tbody>\n",
              "</table><p>\n",
              "\n",
              "    <div>\n",
              "      <progress value='0' class='' max='5' style='width:300px; height:20px; vertical-align: middle;'></progress>\n",
              "      0.00% [0/5 00:00<00:00]\n",
              "    </div>\n",
              "    "
            ],
            "text/plain": [
              "<IPython.core.display.HTML object>"
            ]
          },
          "metadata": {},
          "output_type": "display_data"
        },
        {
          "output_type": "display_data",
          "data": {
            "text/plain": [
              "<IPython.core.display.HTML object>"
            ],
            "text/html": [
              "<table border=\"1\" class=\"dataframe\">\n",
              "  <thead>\n",
              "    <tr style=\"text-align: left;\">\n",
              "      <th>epoch</th>\n",
              "      <th>train_loss</th>\n",
              "      <th>valid_loss</th>\n",
              "      <th>error_rate</th>\n",
              "      <th>time</th>\n",
              "    </tr>\n",
              "  </thead>\n",
              "  <tbody>\n",
              "    <tr>\n",
              "      <td>0</td>\n",
              "      <td>0.387401</td>\n",
              "      <td>0.109551</td>\n",
              "      <td>0.034483</td>\n",
              "      <td>00:21</td>\n",
              "    </tr>\n",
              "    <tr>\n",
              "      <td>1</td>\n",
              "      <td>0.298304</td>\n",
              "      <td>0.026956</td>\n",
              "      <td>0.022989</td>\n",
              "      <td>00:22</td>\n",
              "    </tr>\n",
              "    <tr>\n",
              "      <td>2</td>\n",
              "      <td>0.228614</td>\n",
              "      <td>0.017975</td>\n",
              "      <td>0.000000</td>\n",
              "      <td>00:22</td>\n",
              "    </tr>\n",
              "    <tr>\n",
              "      <td>3</td>\n",
              "      <td>0.193800</td>\n",
              "      <td>0.023713</td>\n",
              "      <td>0.011494</td>\n",
              "      <td>00:23</td>\n",
              "    </tr>\n",
              "  </tbody>\n",
              "</table>"
            ]
          },
          "metadata": {}
        }
      ],
      "source": [
        "learn = vision_learner(dls, resnet18, metrics=error_rate)\n",
        "learn.fine_tune(4)"
      ]
    },
    {
      "cell_type": "code",
      "source": [
        "learn.export()\n",
        "path = Path()\n",
        "path.ls(file_exts='.pkl')"
      ],
      "metadata": {
        "colab": {
          "base_uri": "https://localhost:8080/"
        },
        "id": "7qPScJBkoCPx",
        "outputId": "3f6a4e64-2b07-4e3c-dde0-e45f9a7968d4"
      },
      "execution_count": 33,
      "outputs": [
        {
          "output_type": "execute_result",
          "data": {
            "text/plain": [
              "(#1) [Path('export.pkl')]"
            ]
          },
          "metadata": {},
          "execution_count": 33
        }
      ]
    },
    {
      "cell_type": "code",
      "source": [
        "learn_inf = load_learner(path/'export.pkl')"
      ],
      "metadata": {
        "id": "CPoMtKwSn-Eq"
      },
      "execution_count": 34,
      "outputs": []
    },
    {
      "cell_type": "code",
      "source": [
        "pred,pred_idx,probs = learn_inf.predict(img)"
      ],
      "metadata": {
        "colab": {
          "base_uri": "https://localhost:8080/",
          "height": 17
        },
        "id": "W77GvWeOnjDj",
        "outputId": "649c186c-3b8f-4548-8c0c-2b5277f10792"
      },
      "execution_count": 35,
      "outputs": [
        {
          "output_type": "display_data",
          "data": {
            "text/plain": [
              "<IPython.core.display.HTML object>"
            ],
            "text/html": [
              "\n",
              "<style>\n",
              "    /* Turns off some styling */\n",
              "    progress {\n",
              "        /* gets rid of default border in Firefox and Opera. */\n",
              "        border: none;\n",
              "        /* Needs to be in here for Safari polyfill so background images work as expected. */\n",
              "        background-size: auto;\n",
              "    }\n",
              "    .progress-bar-interrupted, .progress-bar-interrupted::-webkit-progress-bar {\n",
              "        background: #F44336;\n",
              "    }\n",
              "</style>\n"
            ]
          },
          "metadata": {}
        },
        {
          "output_type": "display_data",
          "data": {
            "text/plain": [
              "<IPython.core.display.HTML object>"
            ],
            "text/html": [
              ""
            ]
          },
          "metadata": {}
        }
      ]
    },
    {
      "cell_type": "code",
      "source": [
        "lbl_pred = widgets.Label()\n",
        "lbl_pred.value = f'Prediction: {pred}; Probability: {probs[pred_idx]:.04f}'"
      ],
      "metadata": {
        "id": "wCYvIl-9nle5"
      },
      "execution_count": 41,
      "outputs": []
    },
    {
      "cell_type": "code",
      "source": [
        "btn_run = widgets.Button(description='Classify')"
      ],
      "metadata": {
        "id": "Tgdtbnr9npnV"
      },
      "execution_count": 37,
      "outputs": []
    },
    {
      "cell_type": "code",
      "source": [
        "def on_click_classify(change):\n",
        "    img = PILImage.create(btn_upload.data[-1])\n",
        "    out_pl.clear_output()\n",
        "    with out_pl: display(img.to_thumb(128,128))\n",
        "    pred,pred_idx,probs = learn_inf.predict(img)\n",
        "    lbl_pred.value = f'Prediction: {pred}; Probability: {probs[pred_idx]:.04f}'\n",
        "\n",
        "btn_run.on_click(on_click_classify)"
      ],
      "metadata": {
        "id": "DIlNV5sWnqQB"
      },
      "execution_count": 38,
      "outputs": []
    },
    {
      "cell_type": "code",
      "source": [
        "btn_upload = widgets.FileUpload()"
      ],
      "metadata": {
        "id": "YEyRwNf7nrfj"
      },
      "execution_count": 39,
      "outputs": []
    },
    {
      "cell_type": "code",
      "source": [
        "VBox([widgets.Label('Select your bear!'), \n",
        "      btn_upload, btn_run, out_pl, lbl_pred])"
      ],
      "metadata": {
        "colab": {
          "base_uri": "https://localhost:8080/",
          "height": 273,
          "referenced_widgets": [
            "31419a2b34de4945aa62597d24ba03ab",
            "142ae903353c498a8849e08d6053adf7",
            "43902c3356bd408486d6c9c354b46577",
            "7698c682585e42a39d36b2e3295683ad",
            "6abc8177735f40ee97245787ac050fd8",
            "6af6c1d4062049abb754c26b66d0a598",
            "ac0d603a6c3e4b3c88c54ff7f7b15716",
            "9e55a40a549843289f055a51b57e5705",
            "ee083488d1a24deca729179f928b445a",
            "70901352d28e4daa9508658d797e32ae",
            "690d8629e82b4f9985f0d64728bc1bcc",
            "0a943ade3fbd421b9106d0d2eae9002e",
            "9524be029871490db36cd32c59d7df1d",
            "021ac0d4783641c1868a8866aad94ba8",
            "342717735cd54d7dbde397abda2f032f",
            "09a8bf0c2c3b4300b65c639ad5d5e900"
          ]
        },
        "id": "CLaOzRQVnrh_",
        "outputId": "e5a1a678-e484-4a2a-f31e-f66801395d51"
      },
      "execution_count": 40,
      "outputs": [
        {
          "output_type": "display_data",
          "data": {
            "text/plain": [
              "VBox(children=(Label(value='Select your bear!'), FileUpload(value={}, description='Upload'), Button(descriptio…"
            ],
            "application/vnd.jupyter.widget-view+json": {
              "version_major": 2,
              "version_minor": 0,
              "model_id": "31419a2b34de4945aa62597d24ba03ab"
            }
          },
          "metadata": {}
        },
        {
          "output_type": "display_data",
          "data": {
            "text/plain": [
              "<IPython.core.display.HTML object>"
            ],
            "text/html": [
              "\n",
              "<style>\n",
              "    /* Turns off some styling */\n",
              "    progress {\n",
              "        /* gets rid of default border in Firefox and Opera. */\n",
              "        border: none;\n",
              "        /* Needs to be in here for Safari polyfill so background images work as expected. */\n",
              "        background-size: auto;\n",
              "    }\n",
              "    .progress-bar-interrupted, .progress-bar-interrupted::-webkit-progress-bar {\n",
              "        background: #F44336;\n",
              "    }\n",
              "</style>\n"
            ]
          },
          "metadata": {}
        },
        {
          "output_type": "display_data",
          "data": {
            "text/plain": [
              "<IPython.core.display.HTML object>"
            ],
            "text/html": [
              ""
            ]
          },
          "metadata": {}
        }
      ]
    }
  ],
  "metadata": {
    "accelerator": "GPU",
    "colab": {
      "machine_shape": "hm",
      "name": "Untitled0.ipynb",
      "provenance": []
    },
    "gpuClass": "standard",
    "kernelspec": {
      "display_name": "Python 3",
      "name": "python3"
    },
    "language_info": {
      "name": "python"
    },
    "widgets": {
      "application/vnd.jupyter.widget-state+json": {
        "31419a2b34de4945aa62597d24ba03ab": {
          "model_module": "@jupyter-widgets/controls",
          "model_name": "VBoxModel",
          "model_module_version": "1.5.0",
          "state": {
            "_dom_classes": [],
            "_model_module": "@jupyter-widgets/controls",
            "_model_module_version": "1.5.0",
            "_model_name": "VBoxModel",
            "_view_count": null,
            "_view_module": "@jupyter-widgets/controls",
            "_view_module_version": "1.5.0",
            "_view_name": "VBoxView",
            "box_style": "",
            "children": [
              "IPY_MODEL_142ae903353c498a8849e08d6053adf7",
              "IPY_MODEL_43902c3356bd408486d6c9c354b46577",
              "IPY_MODEL_7698c682585e42a39d36b2e3295683ad",
              "IPY_MODEL_6abc8177735f40ee97245787ac050fd8",
              "IPY_MODEL_6af6c1d4062049abb754c26b66d0a598"
            ],
            "layout": "IPY_MODEL_ac0d603a6c3e4b3c88c54ff7f7b15716"
          }
        },
        "142ae903353c498a8849e08d6053adf7": {
          "model_module": "@jupyter-widgets/controls",
          "model_name": "LabelModel",
          "model_module_version": "1.5.0",
          "state": {
            "_dom_classes": [],
            "_model_module": "@jupyter-widgets/controls",
            "_model_module_version": "1.5.0",
            "_model_name": "LabelModel",
            "_view_count": null,
            "_view_module": "@jupyter-widgets/controls",
            "_view_module_version": "1.5.0",
            "_view_name": "LabelView",
            "description": "",
            "description_tooltip": null,
            "layout": "IPY_MODEL_9e55a40a549843289f055a51b57e5705",
            "placeholder": "​",
            "style": "IPY_MODEL_ee083488d1a24deca729179f928b445a",
            "value": "Select your bear!"
          }
        },
        "43902c3356bd408486d6c9c354b46577": {
          "model_module": "@jupyter-widgets/controls",
          "model_name": "FileUploadModel",
          "model_module_version": "1.5.0",
          "state": {
            "_counter": 1,
            "_dom_classes": [],
            "_model_module": "@jupyter-widgets/controls",
            "_model_module_version": "1.5.0",
            "_model_name": "FileUploadModel",
            "_view_count": null,
            "_view_module": "@jupyter-widgets/controls",
            "_view_module_version": "1.5.0",
            "_view_name": "FileUploadView",
            "accept": "",
            "button_style": "",
            "data": [
              null
            ],
            "description": "Upload",
            "description_tooltip": null,
            "disabled": false,
            "error": "",
            "icon": "upload",
            "layout": "IPY_MODEL_70901352d28e4daa9508658d797e32ae",
            "metadata": [
              {
                "name": "productimg.jpeg",
                "type": "image/jpeg",
                "size": 367889,
                "lastModified": 1656488524000
              }
            ],
            "multiple": false,
            "style": "IPY_MODEL_690d8629e82b4f9985f0d64728bc1bcc"
          }
        },
        "7698c682585e42a39d36b2e3295683ad": {
          "model_module": "@jupyter-widgets/controls",
          "model_name": "ButtonModel",
          "model_module_version": "1.5.0",
          "state": {
            "_dom_classes": [],
            "_model_module": "@jupyter-widgets/controls",
            "_model_module_version": "1.5.0",
            "_model_name": "ButtonModel",
            "_view_count": null,
            "_view_module": "@jupyter-widgets/controls",
            "_view_module_version": "1.5.0",
            "_view_name": "ButtonView",
            "button_style": "",
            "description": "Classify",
            "disabled": false,
            "icon": "",
            "layout": "IPY_MODEL_0a943ade3fbd421b9106d0d2eae9002e",
            "style": "IPY_MODEL_9524be029871490db36cd32c59d7df1d",
            "tooltip": ""
          }
        },
        "6abc8177735f40ee97245787ac050fd8": {
          "model_module": "@jupyter-widgets/output",
          "model_name": "OutputModel",
          "model_module_version": "1.0.0",
          "state": {
            "_dom_classes": [],
            "_model_module": "@jupyter-widgets/output",
            "_model_module_version": "1.0.0",
            "_model_name": "OutputModel",
            "_view_count": null,
            "_view_module": "@jupyter-widgets/output",
            "_view_module_version": "1.0.0",
            "_view_name": "OutputView",
            "layout": "IPY_MODEL_09a8bf0c2c3b4300b65c639ad5d5e900",
            "msg_id": "",
            "outputs": [
              {
                "output_type": "display_data",
                "data": {
                  "text/plain": "<PIL.Image.Image image mode=RGB size=101x128 at 0x7FE0CBF70A10>",
                  "image/png": "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\n"
                },
                "metadata": {}
              }
            ]
          }
        },
        "6af6c1d4062049abb754c26b66d0a598": {
          "model_module": "@jupyter-widgets/controls",
          "model_name": "LabelModel",
          "model_module_version": "1.5.0",
          "state": {
            "_dom_classes": [],
            "_model_module": "@jupyter-widgets/controls",
            "_model_module_version": "1.5.0",
            "_model_name": "LabelModel",
            "_view_count": null,
            "_view_module": "@jupyter-widgets/controls",
            "_view_module_version": "1.5.0",
            "_view_name": "LabelView",
            "description": "",
            "description_tooltip": null,
            "layout": "IPY_MODEL_021ac0d4783641c1868a8866aad94ba8",
            "placeholder": "​",
            "style": "IPY_MODEL_342717735cd54d7dbde397abda2f032f",
            "value": "Prediction: teddy; Probability: 1.0000"
          }
        },
        "ac0d603a6c3e4b3c88c54ff7f7b15716": {
          "model_module": "@jupyter-widgets/base",
          "model_name": "LayoutModel",
          "model_module_version": "1.2.0",
          "state": {
            "_model_module": "@jupyter-widgets/base",
            "_model_module_version": "1.2.0",
            "_model_name": "LayoutModel",
            "_view_count": null,
            "_view_module": "@jupyter-widgets/base",
            "_view_module_version": "1.2.0",
            "_view_name": "LayoutView",
            "align_content": null,
            "align_items": null,
            "align_self": null,
            "border": null,
            "bottom": null,
            "display": null,
            "flex": null,
            "flex_flow": null,
            "grid_area": null,
            "grid_auto_columns": null,
            "grid_auto_flow": null,
            "grid_auto_rows": null,
            "grid_column": null,
            "grid_gap": null,
            "grid_row": null,
            "grid_template_areas": null,
            "grid_template_columns": null,
            "grid_template_rows": null,
            "height": null,
            "justify_content": null,
            "justify_items": null,
            "left": null,
            "margin": null,
            "max_height": null,
            "max_width": null,
            "min_height": null,
            "min_width": null,
            "object_fit": null,
            "object_position": null,
            "order": null,
            "overflow": null,
            "overflow_x": null,
            "overflow_y": null,
            "padding": null,
            "right": null,
            "top": null,
            "visibility": null,
            "width": null
          }
        },
        "9e55a40a549843289f055a51b57e5705": {
          "model_module": "@jupyter-widgets/base",
          "model_name": "LayoutModel",
          "model_module_version": "1.2.0",
          "state": {
            "_model_module": "@jupyter-widgets/base",
            "_model_module_version": "1.2.0",
            "_model_name": "LayoutModel",
            "_view_count": null,
            "_view_module": "@jupyter-widgets/base",
            "_view_module_version": "1.2.0",
            "_view_name": "LayoutView",
            "align_content": null,
            "align_items": null,
            "align_self": null,
            "border": null,
            "bottom": null,
            "display": null,
            "flex": null,
            "flex_flow": null,
            "grid_area": null,
            "grid_auto_columns": null,
            "grid_auto_flow": null,
            "grid_auto_rows": null,
            "grid_column": null,
            "grid_gap": null,
            "grid_row": null,
            "grid_template_areas": null,
            "grid_template_columns": null,
            "grid_template_rows": null,
            "height": null,
            "justify_content": null,
            "justify_items": null,
            "left": null,
            "margin": null,
            "max_height": null,
            "max_width": null,
            "min_height": null,
            "min_width": null,
            "object_fit": null,
            "object_position": null,
            "order": null,
            "overflow": null,
            "overflow_x": null,
            "overflow_y": null,
            "padding": null,
            "right": null,
            "top": null,
            "visibility": null,
            "width": null
          }
        },
        "ee083488d1a24deca729179f928b445a": {
          "model_module": "@jupyter-widgets/controls",
          "model_name": "DescriptionStyleModel",
          "model_module_version": "1.5.0",
          "state": {
            "_model_module": "@jupyter-widgets/controls",
            "_model_module_version": "1.5.0",
            "_model_name": "DescriptionStyleModel",
            "_view_count": null,
            "_view_module": "@jupyter-widgets/base",
            "_view_module_version": "1.2.0",
            "_view_name": "StyleView",
            "description_width": ""
          }
        },
        "70901352d28e4daa9508658d797e32ae": {
          "model_module": "@jupyter-widgets/base",
          "model_name": "LayoutModel",
          "model_module_version": "1.2.0",
          "state": {
            "_model_module": "@jupyter-widgets/base",
            "_model_module_version": "1.2.0",
            "_model_name": "LayoutModel",
            "_view_count": null,
            "_view_module": "@jupyter-widgets/base",
            "_view_module_version": "1.2.0",
            "_view_name": "LayoutView",
            "align_content": null,
            "align_items": null,
            "align_self": null,
            "border": null,
            "bottom": null,
            "display": null,
            "flex": null,
            "flex_flow": null,
            "grid_area": null,
            "grid_auto_columns": null,
            "grid_auto_flow": null,
            "grid_auto_rows": null,
            "grid_column": null,
            "grid_gap": null,
            "grid_row": null,
            "grid_template_areas": null,
            "grid_template_columns": null,
            "grid_template_rows": null,
            "height": null,
            "justify_content": null,
            "justify_items": null,
            "left": null,
            "margin": null,
            "max_height": null,
            "max_width": null,
            "min_height": null,
            "min_width": null,
            "object_fit": null,
            "object_position": null,
            "order": null,
            "overflow": null,
            "overflow_x": null,
            "overflow_y": null,
            "padding": null,
            "right": null,
            "top": null,
            "visibility": null,
            "width": null
          }
        },
        "690d8629e82b4f9985f0d64728bc1bcc": {
          "model_module": "@jupyter-widgets/controls",
          "model_name": "ButtonStyleModel",
          "model_module_version": "1.5.0",
          "state": {
            "_model_module": "@jupyter-widgets/controls",
            "_model_module_version": "1.5.0",
            "_model_name": "ButtonStyleModel",
            "_view_count": null,
            "_view_module": "@jupyter-widgets/base",
            "_view_module_version": "1.2.0",
            "_view_name": "StyleView",
            "button_color": null,
            "font_weight": ""
          }
        },
        "0a943ade3fbd421b9106d0d2eae9002e": {
          "model_module": "@jupyter-widgets/base",
          "model_name": "LayoutModel",
          "model_module_version": "1.2.0",
          "state": {
            "_model_module": "@jupyter-widgets/base",
            "_model_module_version": "1.2.0",
            "_model_name": "LayoutModel",
            "_view_count": null,
            "_view_module": "@jupyter-widgets/base",
            "_view_module_version": "1.2.0",
            "_view_name": "LayoutView",
            "align_content": null,
            "align_items": null,
            "align_self": null,
            "border": null,
            "bottom": null,
            "display": null,
            "flex": null,
            "flex_flow": null,
            "grid_area": null,
            "grid_auto_columns": null,
            "grid_auto_flow": null,
            "grid_auto_rows": null,
            "grid_column": null,
            "grid_gap": null,
            "grid_row": null,
            "grid_template_areas": null,
            "grid_template_columns": null,
            "grid_template_rows": null,
            "height": null,
            "justify_content": null,
            "justify_items": null,
            "left": null,
            "margin": null,
            "max_height": null,
            "max_width": null,
            "min_height": null,
            "min_width": null,
            "object_fit": null,
            "object_position": null,
            "order": null,
            "overflow": null,
            "overflow_x": null,
            "overflow_y": null,
            "padding": null,
            "right": null,
            "top": null,
            "visibility": null,
            "width": null
          }
        },
        "9524be029871490db36cd32c59d7df1d": {
          "model_module": "@jupyter-widgets/controls",
          "model_name": "ButtonStyleModel",
          "model_module_version": "1.5.0",
          "state": {
            "_model_module": "@jupyter-widgets/controls",
            "_model_module_version": "1.5.0",
            "_model_name": "ButtonStyleModel",
            "_view_count": null,
            "_view_module": "@jupyter-widgets/base",
            "_view_module_version": "1.2.0",
            "_view_name": "StyleView",
            "button_color": null,
            "font_weight": ""
          }
        },
        "021ac0d4783641c1868a8866aad94ba8": {
          "model_module": "@jupyter-widgets/base",
          "model_name": "LayoutModel",
          "model_module_version": "1.2.0",
          "state": {
            "_model_module": "@jupyter-widgets/base",
            "_model_module_version": "1.2.0",
            "_model_name": "LayoutModel",
            "_view_count": null,
            "_view_module": "@jupyter-widgets/base",
            "_view_module_version": "1.2.0",
            "_view_name": "LayoutView",
            "align_content": null,
            "align_items": null,
            "align_self": null,
            "border": null,
            "bottom": null,
            "display": null,
            "flex": null,
            "flex_flow": null,
            "grid_area": null,
            "grid_auto_columns": null,
            "grid_auto_flow": null,
            "grid_auto_rows": null,
            "grid_column": null,
            "grid_gap": null,
            "grid_row": null,
            "grid_template_areas": null,
            "grid_template_columns": null,
            "grid_template_rows": null,
            "height": null,
            "justify_content": null,
            "justify_items": null,
            "left": null,
            "margin": null,
            "max_height": null,
            "max_width": null,
            "min_height": null,
            "min_width": null,
            "object_fit": null,
            "object_position": null,
            "order": null,
            "overflow": null,
            "overflow_x": null,
            "overflow_y": null,
            "padding": null,
            "right": null,
            "top": null,
            "visibility": null,
            "width": null
          }
        },
        "342717735cd54d7dbde397abda2f032f": {
          "model_module": "@jupyter-widgets/controls",
          "model_name": "DescriptionStyleModel",
          "model_module_version": "1.5.0",
          "state": {
            "_model_module": "@jupyter-widgets/controls",
            "_model_module_version": "1.5.0",
            "_model_name": "DescriptionStyleModel",
            "_view_count": null,
            "_view_module": "@jupyter-widgets/base",
            "_view_module_version": "1.2.0",
            "_view_name": "StyleView",
            "description_width": ""
          }
        },
        "09a8bf0c2c3b4300b65c639ad5d5e900": {
          "model_module": "@jupyter-widgets/base",
          "model_name": "LayoutModel",
          "model_module_version": "1.2.0",
          "state": {
            "_model_module": "@jupyter-widgets/base",
            "_model_module_version": "1.2.0",
            "_model_name": "LayoutModel",
            "_view_count": null,
            "_view_module": "@jupyter-widgets/base",
            "_view_module_version": "1.2.0",
            "_view_name": "LayoutView",
            "align_content": null,
            "align_items": null,
            "align_self": null,
            "border": null,
            "bottom": null,
            "display": null,
            "flex": null,
            "flex_flow": null,
            "grid_area": null,
            "grid_auto_columns": null,
            "grid_auto_flow": null,
            "grid_auto_rows": null,
            "grid_column": null,
            "grid_gap": null,
            "grid_row": null,
            "grid_template_areas": null,
            "grid_template_columns": null,
            "grid_template_rows": null,
            "height": null,
            "justify_content": null,
            "justify_items": null,
            "left": null,
            "margin": null,
            "max_height": null,
            "max_width": null,
            "min_height": null,
            "min_width": null,
            "object_fit": null,
            "object_position": null,
            "order": null,
            "overflow": null,
            "overflow_x": null,
            "overflow_y": null,
            "padding": null,
            "right": null,
            "top": null,
            "visibility": null,
            "width": null
          }
        }
      }
    }
  },
  "nbformat": 4,
  "nbformat_minor": 0
}